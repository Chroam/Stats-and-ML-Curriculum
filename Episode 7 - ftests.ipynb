{
 "cells": [
  {
   "cell_type": "markdown",
   "id": "03a033df",
   "metadata": {},
   "source": [
    "Next is f-test. You use an f-test when you want to determine if there is a significant difference between the amount of variation in two data. \n",
    "\n",
    "Suppose you want to know if an athlete has less variance in their points per game if they are given an elixir of accuracy. Perhaps you compare their pre and post data using an ftest. This is different from t-test because you dont really care what the most likely value is (the central tendency), you just care if they are more consistent (because they vary less).  \n",
    "\n",
    "Generate some data."
   ]
  },
  {
   "cell_type": "code",
   "execution_count": 2,
   "id": "0c57e01c",
   "metadata": {},
   "outputs": [],
   "source": [
    "import numpy as np\n",
    "\n",
    "# Parameters for the normal distribution\n",
    "mean = 50  # Mean value\n",
    "std_dev = 5  # Standard deviation\n",
    "\n",
    "# Generate normally distributed data\n",
    "data = np.random.normal(mean, std_dev, 1000)\n",
    "\n",
    "#and a second one\n",
    "mean = 50\n",
    "std_dev=10\n",
    "data2 = np.random.normal(mean, std_dev, 1000)\n",
    "\n",
    "#and a third\n",
    "mean = 50\n",
    "std_dev=15\n",
    "data3 = np.random.normal(mean, std_dev, 1000)\n",
    "\n",
    "# Clip the data to fit within the [0, 100] range, this is an artifact from the test data but lets keep it for now.\n",
    "data = np.clip(data, 0, 100)\n",
    "data2 = np.clip(data2, 0, 100)\n",
    "data23 = np.clip(data3, 0, 100)\n",
    "\n",
    "# Now, 'data' contains 1000 data points that are normally distributed\n",
    "# but constrained within the [0, 100] range"
   ]
  },
  {
   "cell_type": "markdown",
   "id": "9cb746f1",
   "metadata": {},
   "source": [
    "f-test assumptions:\n",
    "\n",
    "1. Normality: The data within each group should follow a normal distribution. This assumption is more critical when sample sizes are small. For larger sample sizes, the Central Limit Theorem helps to mitigate this concern.\n",
    "\n",
    "2. Homogeneity of Variance (Homoscedasticity): The variances of the populations being compared should be approximately equal. In other words, the spread of the data should be similar across groups. This assumption is particularly important for one-way ANOVA.\n",
    "\n",
    "3. Independence: Observations within each group should be independent of each other. This means that the value of one observation should not be dependent on the value of another observation. Independence is often assumed in the context of experimental design and sampling.\n",
    "\n",
    "4. Random Sampling: The data should be collected through a random sampling process. This ensures that the sample is representative of the population from which it is drawn.\n",
    "\n",
    "5. Ratio of Variances: In the case of comparing variances, the F-test assumes that the ratio of the variances being compared follows an F-distribution.\n",
    "\n",
    "6. Continuous Data: The F-test is generally more appropriate for continuous data rather than categorical data. If you have categorical data, alternative tests like the chi-square test may be more suitable.\n",
    "\n",
    "Let's assume the latter 4 to be true. Just to clarify, the assumption of independence, which we did not have in t-test, means that the experimental units are not dependent on others, like scores of individuals that are in a group."
   ]
  },
  {
   "cell_type": "markdown",
   "id": "ff2503b3",
   "metadata": {},
   "source": [
    "Normality Test"
   ]
  },
  {
   "cell_type": "code",
   "execution_count": 3,
   "id": "6930f2e6",
   "metadata": {},
   "outputs": [
    {
     "name": "stdout",
     "output_type": "stream",
     "text": [
      "Data appears to be normally distributed\n",
      "Data appears to be normally distributed\n",
      "Data appears to be normally distributed\n"
     ]
    }
   ],
   "source": [
    "import scipy.stats as stats\n",
    "\n",
    "# Perform the Shapiro-Wilk test on data 1\n",
    "statistic, p_value = stats.shapiro(data)\n",
    "\n",
    "# Check the p-value against a significance level (e.g., 0.05)\n",
    "if p_value > 0.05:\n",
    "    print(\"Data appears to be normally distributed\")\n",
    "else:\n",
    "    print(\"Data does not appear to be normally distributed\")\n",
    "    \n",
    "# Perform the Shapiro-Wilk test on data 2\n",
    "statistic, p_value = stats.shapiro(data2)\n",
    "\n",
    "# Check the p-value against a significance level (e.g., 0.05)\n",
    "if p_value > 0.05:\n",
    "    print(\"Data appears to be normally distributed\")\n",
    "else:\n",
    "    print(\"Data does not appear to be normally distributed\")\n",
    "    \n",
    "# Perform the Shapiro-Wilk test on data 3\n",
    "statistic, p_value = stats.shapiro(data3)\n",
    "\n",
    "# Check the p-value against a significance level (e.g., 0.05)\n",
    "if p_value > 0.05:\n",
    "    print(\"Data appears to be normally distributed\")\n",
    "else:\n",
    "    print(\"Data does not appear to be normally distributed\")"
   ]
  },
  {
   "cell_type": "markdown",
   "id": "b8f3a6f3",
   "metadata": {},
   "source": [
    "Homoscedasticity Test"
   ]
  },
  {
   "cell_type": "code",
   "execution_count": 5,
   "id": "a86c2e83",
   "metadata": {},
   "outputs": [
    {
     "name": "stdout",
     "output_type": "stream",
     "text": [
      "Homoscedasticity is not supported (p-value = 7.642836158506181e-66 )\n"
     ]
    }
   ],
   "source": [
    "from scipy import stats\n",
    "\n",
    "# Assuming 'residuals' is a NumPy array or a list of residuals\n",
    "statistic, p_value = stats.levene(data2, data)\n",
    "if p_value > 0.05:\n",
    "    print(\"Homoscedasticity is supported (p-value =\", p_value, \")\")\n",
    "else:\n",
    "    print(\"Homoscedasticity is not supported (p-value =\", p_value, \")\")"
   ]
  },
  {
   "cell_type": "markdown",
   "id": "6a50d95d",
   "metadata": {},
   "source": [
    "GPT: \"Provide f-test code for Python\""
   ]
  },
  {
   "cell_type": "code",
   "execution_count": 9,
   "id": "7e42f70f",
   "metadata": {},
   "outputs": [
    {
     "name": "stdout",
     "output_type": "stream",
     "text": [
      "F-Statistic: 0.00126316413584554\n",
      "P-Value: 0.9716518876873754\n",
      "No significant difference found between the means of the groups.\n"
     ]
    }
   ],
   "source": [
    "import numpy as np\n",
    "from scipy.stats import f_oneway\n",
    "\n",
    "# Perform one-way ANOVA\n",
    "f_statistic, p_value = f_oneway(data, data2)\n",
    "\n",
    "# Display the results\n",
    "print(\"F-Statistic:\", f_statistic)\n",
    "print(\"P-Value:\", p_value)\n",
    "\n",
    "# Check the p-value to determine statistical significance\n",
    "if p_value < 0.05:\n",
    "    print(\"The means of the groups are significantly different.\")\n",
    "else:\n",
    "    print(\"No significant difference found between the means of the groups.\")"
   ]
  },
  {
   "cell_type": "markdown",
   "id": "294c3c65",
   "metadata": {},
   "source": [
    "Here we find that the groups do not differ, and we could add more groups for f-test, wheras t-test could only handle 2 groups."
   ]
  },
  {
   "cell_type": "code",
   "execution_count": 10,
   "id": "219eb93f",
   "metadata": {},
   "outputs": [
    {
     "name": "stdout",
     "output_type": "stream",
     "text": [
      "F-Statistic: 2.7994937281106935\n",
      "P-Value: 0.0609999657021017\n",
      "No significant difference found between the means of the groups.\n"
     ]
    }
   ],
   "source": [
    "import numpy as np\n",
    "from scipy.stats import f_oneway\n",
    "\n",
    "# Perform one-way ANOVA\n",
    "f_statistic, p_value = f_oneway(data, data2, data3)\n",
    "\n",
    "# Display the results\n",
    "print(\"F-Statistic:\", f_statistic)\n",
    "print(\"P-Value:\", p_value)\n",
    "\n",
    "# Check the p-value to determine statistical significance\n",
    "if p_value < 0.05:\n",
    "    print(\"The means of the groups are significantly different.\")\n",
    "else:\n",
    "    print(\"No significant difference found between the means of the groups.\")"
   ]
  },
  {
   "cell_type": "markdown",
   "id": "11ebb9ae",
   "metadata": {},
   "source": [
    "GPT: \"What are some different kinds of f-test?\""
   ]
  },
  {
   "cell_type": "markdown",
   "id": "46380a46",
   "metadata": {},
   "source": [
    "F-Test for Equality of Variances:\n",
    "\n",
    "1. Compares the variances of two or more groups to determine if they are significantly different. It is often used as a preliminary test before other analyses, such as t-tests or ANOVA, to assess the assumption of homogeneity of variances.\n",
    "Regression F-Test:\n",
    "\n",
    "2. Assesses the overall significance of a regression model by comparing the fit of the model with predictors to a null model without predictors.\n",
    "Lack-of-Fit Test in Regression:\n",
    "\n",
    "3. Tests whether a regression model fits the data well by comparing the fit of the full model to the fit of a reduced model.\n",
    "Bartlett's Test:\n",
    "\n",
    "4. Similar to the F-test for equality of variances, Bartlett's test is used to test the null hypothesis that all population variances are equal.\n",
    "\n",
    "These are just a few examples, and the application of F-tests depends on the specific research or analysis context. Each type of F-test has its assumptions and is used to answer different questions about the variability or means in data. Furthermore, the F-test is the underlying formula for ANOVA."
   ]
  }
 ],
 "metadata": {
  "kernelspec": {
   "display_name": "Python 3 (ipykernel)",
   "language": "python",
   "name": "python3"
  },
  "language_info": {
   "codemirror_mode": {
    "name": "ipython",
    "version": 3
   },
   "file_extension": ".py",
   "mimetype": "text/x-python",
   "name": "python",
   "nbconvert_exporter": "python",
   "pygments_lexer": "ipython3",
   "version": "3.8.16"
  }
 },
 "nbformat": 4,
 "nbformat_minor": 5
}
