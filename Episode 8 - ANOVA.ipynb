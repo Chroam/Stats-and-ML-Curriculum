{
 "cells": [
  {
   "cell_type": "markdown",
   "id": "9f8f4d07",
   "metadata": {},
   "source": [
    "GPT: \"What is ANOVA?\""
   ]
  },
  {
   "cell_type": "markdown",
   "id": "8f66e0e3",
   "metadata": {},
   "source": [
    "ANOVA, or Analysis of Variance, is a statistical method used to analyze the differences among group means in a sample. It is an extension of the t-test, which is used for comparing the means of two groups. ANOVA allows for the comparison of means across multiple groups simultaneously. The basic idea behind ANOVA is to partition the total variability observed in a data set into different sources to assess whether the variation between group means is significantly greater than the variation within groups.\n",
    "\n",
    "There are several types of ANOVA, but the most common ones include:\n",
    "\n",
    "One-Way ANOVA: This is used when comparing the means of more than two independent groups. It assesses whether there are any statistically significant differences between the means of these groups.\n",
    "\n",
    "Two-Way ANOVA: This extends the one-way ANOVA by considering the influence of two independent categorical variables (factors) on a dependent variable. It can assess the main effects of each factor as well as their interaction.\n",
    "\n",
    "Repeated Measures ANOVA: This is used when the same subjects are used for each treatment or under each condition. It assesses the mean differences within the same group across different time points or conditions.\n",
    "\n",
    "The general process of conducting an ANOVA involves the following steps:\n",
    "\n",
    "Formulate Hypotheses\n",
    "\n",
    "Collect Data:\n",
    "\n",
    "Gather data from multiple groups or conditions.\n",
    "\n",
    "Calculate Variability:\n",
    "\n",
    "Partition the total variability into between-group and within-group variability.\n",
    "\n",
    "Compute the F-Statistic:\n",
    "\n",
    "The F-statistic is calculated by taking the ratio of the between-group variability to the within-group variability.\n",
    "\n",
    "Determine Significance:\n",
    "\n",
    "Compare the calculated F-statistic to a critical value from the F-distribution or calculate a p-value. If the result is statistically significant, you reject the null hypothesis.\n",
    "\n",
    "Post-hoc Analysis (if necessary):\n",
    "\n",
    "If the ANOVA indicates significant differences, further tests (post-hoc tests) may be conducted to identify which specific groups differ from each other.\n",
    "ANOVA is a powerful tool for understanding the sources of variability in a dataset and identifying whether there are significant differences between group means. However, it is important to meet the assumptions of ANOVA, such as normality and homogeneity of variances, for the results to be valid."
   ]
  },
  {
   "cell_type": "markdown",
   "id": "5bf7c9a9",
   "metadata": {},
   "source": [
    "GPT: \"What are the differnet kinds of ANOVA analyses?\""
   ]
  },
  {
   "cell_type": "markdown",
   "id": "2a076352",
   "metadata": {},
   "source": [
    "1. One-Way ANOVA (Analysis of Variance):\n",
    "\n",
    "Compares means across two or more independent (unrelated) groups to determine if there are any statistically significant differences.\n",
    "\n",
    "2. Two-Way ANOVA:\n",
    "\n",
    "Extends the one-way ANOVA to consider the influence of two independent categorical variables (factors) on a dependent variable.\n",
    "\n",
    "3. Repeated Measures ANOVA:\n",
    "\n",
    "Examines the mean differences within the same group across different time points or conditions. It is used when the same subjects are used for each treatment.\n",
    "\n",
    "4. Multivariate Analysis of Variance (MANOVA):\n",
    "\n",
    "Extends ANOVA to multiple dependent variables simultaneously. It is used when there are two or more dependent variables.\n",
    "\n",
    "5. Analysis of Covariance (ANCOVA):\n",
    "\n",
    "Combines ANOVA and regression. It assesses whether population means of a dependent variable (DV) are equal across levels of a categorical independent variable (IV), while statistically controlling for the effects of other continuous variables that are not of primary interest."
   ]
  },
  {
   "cell_type": "markdown",
   "id": "32f2b89a",
   "metadata": {},
   "source": [
    "Generate some data:"
   ]
  },
  {
   "cell_type": "code",
   "execution_count": 2,
   "id": "818915f9",
   "metadata": {},
   "outputs": [],
   "source": [
    "import numpy as np\n",
    "\n",
    "# Parameters for the normal distribution\n",
    "mean = 20  # Mean value\n",
    "std_dev = 12  # Standard deviation\n",
    "\n",
    "# Generate normally distributed data\n",
    "data = np.random.normal(mean, std_dev, 1000)\n",
    "\n",
    "#and a second one\n",
    "mean = 60\n",
    "std_dev= 7\n",
    "data2 = np.random.normal(mean, std_dev, 1000)\n",
    "\n",
    "#and a third\n",
    "mean = 25\n",
    "std_dev=25\n",
    "data3 = np.random.normal(mean, std_dev, 1000)\n",
    "\n",
    "# Clip the data to fit within the [0, 100] range, this is an artifact from the test data but lets keep it for now.\n",
    "data = np.clip(data, 0, 100)\n",
    "data2 = np.clip(data2, 0, 100)\n",
    "data23 = np.clip(data3, 0, 100)\n",
    "\n",
    "# Now, 'data' contains 1000 data points that are normally distributed\n",
    "# but constrained within the [0, 100] range"
   ]
  },
  {
   "cell_type": "markdown",
   "id": "9179b79d",
   "metadata": {},
   "source": [
    "GPT: \"Assumptions of ANOVA\""
   ]
  },
  {
   "cell_type": "markdown",
   "id": "e81fbd00",
   "metadata": {},
   "source": [
    "Analysis of Variance (ANOVA) relies on certain assumptions for the validity of its results. It's important to check and, if necessary, address these assumptions before interpreting the outcomes of an ANOVA. The key assumptions are:\n",
    "\n",
    "Normality:\n",
    "\n",
    "The residuals (the differences between observed and predicted values) should be approximately normally distributed within each group. While ANOVA is robust to moderate departures from normality, it becomes a concern with small sample sizes.\n",
    "\n",
    "Homogeneity of Variances (Homoscedasticity):\n",
    "\n",
    "The variances of the residuals should be roughly equal across all groups. This assumption is crucial for the validity of the F-test. If variances are significantly different between groups, it can affect the accuracy of the test.\n",
    "\n",
    "Independence:\n",
    "\n",
    "Observations within each group should be independent of each other. This means that the value of one observation should not be dependent on the value of another observation. Independence is often assumed in the context of experimental design and sampling.\n",
    "\n",
    "Random Sampling:\n",
    "\n",
    "The data should be collected through a random sampling process. This ensures that the sample is representative of the population from which it is drawn.\n",
    "\n",
    "Interval or Ratio Data:\n",
    "\n",
    "ANOVA assumes that the dependent variable is measured on an interval or ratio scale. This is because ANOVA involves calculations that assume equal intervals between values.\n",
    "\n",
    "Homogeneity of Regression Slopes (for Two-Way ANOVA):\n",
    "\n",
    "This assumption is specific to two-way ANOVA. It requires that the effect of one independent variable on the dependent variable is the same for all levels of the other independent variable.\n",
    "Violation of these assumptions can impact the reliability and validity of ANOVA results. There are, however, robust versions of ANOVA for situations where the assumption of homogeneity of variances is violated.\n",
    "\n",
    "If assumptions are not met, alternative non-parametric tests or transformations of the data may be considered. Additionally, graphical methods such as residual plots can be helpful for assessing assumptions. Let's assume the latter 4 are met."
   ]
  },
  {
   "cell_type": "markdown",
   "id": "3f073794",
   "metadata": {},
   "source": [
    "Normality"
   ]
  },
  {
   "cell_type": "code",
   "execution_count": 4,
   "id": "1711a776",
   "metadata": {},
   "outputs": [
    {
     "name": "stdout",
     "output_type": "stream",
     "text": [
      "Data does not appear to be normally distributed\n",
      "Data appears to be normally distributed\n",
      "Data appears to be normally distributed\n"
     ]
    }
   ],
   "source": [
    "import scipy.stats as stats\n",
    "\n",
    "# Perform the Shapiro-Wilk test on data 1\n",
    "statistic, p_value = stats.shapiro(data)\n",
    "\n",
    "# Check the p-value against a significance level (e.g., 0.05)\n",
    "if p_value > 0.05:\n",
    "    print(\"Data appears to be normally distributed\")\n",
    "else:\n",
    "    print(\"Data does not appear to be normally distributed\")\n",
    "    \n",
    "# Perform the Shapiro-Wilk test on data 2\n",
    "statistic, p_value = stats.shapiro(data2)\n",
    "\n",
    "# Check the p-value against a significance level (e.g., 0.05)\n",
    "if p_value > 0.05:\n",
    "    print(\"Data appears to be normally distributed\")\n",
    "else:\n",
    "    print(\"Data does not appear to be normally distributed\")\n",
    "    \n",
    "# Perform the Shapiro-Wilk test on data 3\n",
    "statistic, p_value = stats.shapiro(data3)\n",
    "\n",
    "# Check the p-value against a significance level (e.g., 0.05)\n",
    "if p_value > 0.05:\n",
    "    print(\"Data appears to be normally distributed\")\n",
    "else:\n",
    "    print(\"Data does not appear to be normally distributed\")"
   ]
  },
  {
   "cell_type": "markdown",
   "id": "816dec67",
   "metadata": {},
   "source": [
    "Homoscedasticity Test"
   ]
  },
  {
   "cell_type": "code",
   "execution_count": 5,
   "id": "cffb8ae4",
   "metadata": {
    "scrolled": true
   },
   "outputs": [
    {
     "name": "stdout",
     "output_type": "stream",
     "text": [
      "Homoscedasticity is not supported (p-value = 6.834388043084638e-49 )\n"
     ]
    }
   ],
   "source": [
    "from scipy import stats\n",
    "\n",
    "# Assuming 'residuals' is a NumPy array or a list of residuals\n",
    "statistic, p_value = stats.levene(data2, data)\n",
    "if p_value > 0.05:\n",
    "    print(\"Homoscedasticity is supported (p-value =\", p_value, \")\")\n",
    "else:\n",
    "    print(\"Homoscedasticity is not supported (p-value =\", p_value, \")\")"
   ]
  },
  {
   "cell_type": "markdown",
   "id": "c13e01a1",
   "metadata": {},
   "source": [
    "One-Way ANOVA Code from GPT"
   ]
  },
  {
   "cell_type": "code",
   "execution_count": 6,
   "id": "3f5ef53d",
   "metadata": {},
   "outputs": [
    {
     "name": "stdout",
     "output_type": "stream",
     "text": [
      "F-Statistic: 1756.0036591623336\n",
      "P-Value: 0.0\n",
      "The means of the groups are significantly different.\n"
     ]
    }
   ],
   "source": [
    "from scipy.stats import f_oneway\n",
    "import numpy as np\n",
    "\n",
    "# Example data for three groups\n",
    "#group1 = np.random.normal(loc=5, scale=2, size=100)\n",
    "#group2 = np.random.normal(loc=8, scale=2, size=100)\n",
    "#group3 = np.random.normal(loc=10, scale=2, size=100)\n",
    "\n",
    "# Perform one-way ANOVA\n",
    "f_statistic, p_value = f_oneway(data, data2, data3)\n",
    "\n",
    "# Display the results\n",
    "print(\"F-Statistic:\", f_statistic)\n",
    "print(\"P-Value:\", p_value)\n",
    "\n",
    "# Check the p-value to determine statistical significance\n",
    "alpha = 0.05\n",
    "if p_value < alpha:\n",
    "    print(\"The means of the groups are significantly different.\")\n",
    "else:\n",
    "    print(\"No significant difference found between the means of the groups.\")"
   ]
  },
  {
   "cell_type": "markdown",
   "id": "d8d5b25b",
   "metadata": {},
   "source": [
    "The test tells us there is difference, but not which groups are different. We must do a post-hoc analysis."
   ]
  },
  {
   "cell_type": "markdown",
   "id": "ac8acbae",
   "metadata": {},
   "source": [
    "GPT: \"What is a test of multiple comparisons\""
   ]
  },
  {
   "cell_type": "markdown",
   "id": "6e5a5377",
   "metadata": {},
   "source": [
    "A test of multiple comparisons is performed when you have conducted an overall statistical test (such as ANOVA) and have found evidence of a significant difference. However, this test doesn't identify which specific groups differ from each other. Multiple comparison tests are used to make pairwise comparisons between groups and determine where the significant differences lie.\n",
    "\n",
    "There are several methods for multiple comparisons, and the choice of method often depends on the nature of the data and the design of the study. Some common methods include:\n",
    "\n",
    "Bonferroni Correction:\n",
    "\n",
    "One of the simplest methods. It controls the familywise error rate by adjusting the significance level (α) for each comparison. The adjusted significance level is α divided by the number of comparisons.\n",
    "\n",
    "Tukey's Honestly Significant Difference (HSD):\n",
    "\n",
    "It controls the familywise error rate and is suitable for comparing all possible pairs of means. Tukey's HSD is often used after an ANOVA.\n",
    "\n",
    "Holm's Method:\n",
    "\n",
    "Similar to the Bonferroni correction, but potentially more powerful. It adjusts the significance level for each comparison in a way that depends on the p-values of all the tests.\n",
    "\n",
    "Dunnett's Test:\n",
    "\n",
    "Used when you have a control group and want to compare other groups to the control. It controls the Type I error rate.\n",
    "\n",
    "Sidak Correction:\n",
    "\n",
    "Similar to the Bonferroni correction but potentially less conservative. It adjusts the significance level for each comparison based on the number of comparisons.\n",
    "\n",
    "Fisher's Least Significant Difference (LSD):\n",
    "\n",
    "It is a less conservative method that compares means in pairs. However, it doesn't control the overall Type I error rate as rigorously as Tukey's HSD.\n",
    "When performing multiple comparisons, it's important to be aware of the increased risk of Type I errors (false positives). The more comparisons you make, the higher the chance of finding a significant result by random chance. Therefore, adjusting the significance level helps control this increased risk.\n",
    "\n",
    "The choice of which multiple comparison method to use depends on the specific requirements of your study, the experimental design, and the nature of the data."
   ]
  },
  {
   "cell_type": "markdown",
   "id": "3dbb1432",
   "metadata": {},
   "source": [
    "I'm going to use Tukey for simplicity."
   ]
  },
  {
   "cell_type": "code",
   "execution_count": 10,
   "id": "91a1b4ca",
   "metadata": {},
   "outputs": [],
   "source": [
    "#!pip install statsmodels"
   ]
  },
  {
   "cell_type": "code",
   "execution_count": 20,
   "id": "71f6a00f",
   "metadata": {},
   "outputs": [
    {
     "name": "stdout",
     "output_type": "stream",
     "text": [
      "The means of the groups are significantly different.\n",
      "\n",
      "Tukey's HSD Test:\n",
      " Multiple Comparison of Means - Tukey HSD, FWER=0.05 \n",
      "=====================================================\n",
      "group1 group2 meandiff p-adj  lower    upper   reject\n",
      "-----------------------------------------------------\n",
      "Group1 Group2  39.6987   0.0  37.9645  41.4328   True\n",
      "Group1 Group3   3.7651   0.0   2.0309   5.4993   True\n",
      "Group2 Group3 -35.9335   0.0 -37.6677 -34.1994   True\n",
      "-----------------------------------------------------\n"
     ]
    }
   ],
   "source": [
    "import numpy as np\n",
    "import pandas as pd\n",
    "from statsmodels.stats.multicomp import pairwise_tukeyhsd\n",
    "\n",
    "\n",
    "# Check the p-value for significance\n",
    "alpha = 0.05\n",
    "if p_value < alpha:\n",
    "    print(\"The means of the groups are significantly different.\")\n",
    "else:\n",
    "    print(\"No significant difference found between the means of the groups.\")\n",
    "\n",
    "# Combine the data and create a group labels array\n",
    "all_data = np.concatenate([data, data2, data3])\n",
    "group_labels = np.repeat(['Group1', 'Group2', 'Group3'], 1000)\n",
    "\n",
    "# Perform Tukey's HSD test\n",
    "tukey_result = pairwise_tukeyhsd(all_data, group_labels)\n",
    "\n",
    "# Display Tukey's HSD results\n",
    "print(\"\\nTukey's HSD Test:\")\n",
    "print(tukey_result)"
   ]
  }
 ],
 "metadata": {
  "kernelspec": {
   "display_name": "Python 3",
   "language": "python",
   "name": "python3"
  },
  "language_info": {
   "codemirror_mode": {
    "name": "ipython",
    "version": 3
   },
   "file_extension": ".py",
   "mimetype": "text/x-python",
   "name": "python",
   "nbconvert_exporter": "python",
   "pygments_lexer": "ipython3",
   "version": "3.8.11"
  }
 },
 "nbformat": 4,
 "nbformat_minor": 5
}
