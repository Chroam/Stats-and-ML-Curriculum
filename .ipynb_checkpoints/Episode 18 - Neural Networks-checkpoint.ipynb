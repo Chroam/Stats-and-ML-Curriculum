{
 "cells": [
  {
   "cell_type": "markdown",
   "id": "148fca3b",
   "metadata": {},
   "source": [
    "GPT: \"What is a neural network?\""
   ]
  },
  {
   "cell_type": "markdown",
   "id": "b759ba5f",
   "metadata": {},
   "source": [
    "A neural network is a computational model inspired by the way biological neural networks in the human brain operate. It is composed of interconnected nodes, also known as neurons or artificial neurons, organized in layers. Neural networks are a fundamental component of deep learning, a subfield of machine learning.\n",
    "\n",
    "Key Components of a Neural Network:\n",
    "\n",
    "Input Layer:\n",
    "\n",
    "The layer that receives input features or data.\n",
    "\n",
    "Hidden Layers:\n",
    "\n",
    "Intermediate layers between the input and output layers where computations are performed. Deep neural networks have multiple hidden layers.\n",
    "\n",
    "Weights and Biases:\n",
    "\n",
    "Parameters that the neural network learns from training data. They are adjusted during the training process to optimize the network's performance.\n",
    "\n",
    "Activation Function:\n",
    "\n",
    "Non-linear functions applied to the output of each neuron in a layer. They introduce non-linearity to the model, enabling it to learn complex relationships in the data.\n",
    "\n",
    "Output Layer:\n",
    "\n",
    "The layer that produces the final output or prediction.\n",
    "\n",
    "How Neural Networks Work:\n",
    "\n",
    "Forward Propagation:\n",
    "\n",
    "During forward propagation, input data is passed through the network layer by layer, and computations are performed using weights, biases, and activation functions to generate predictions.\n",
    "\n",
    "Loss Function:\n",
    "\n",
    "A loss function measures the difference between the predicted output and the actual target. The goal during training is to minimize this loss.\n",
    "\n",
    "Backward Propagation (Training):\n",
    "\n",
    "Backward propagation involves updating the weights and biases based on the gradients of the loss function with respect to the parameters. This is done using optimization algorithms like gradient descent.\n",
    "\n",
    "Training Epochs:\n",
    "\n",
    "The entire process of forward and backward propagation is repeated for multiple iterations or epochs until the model achieves satisfactory performance on the training data."
   ]
  },
  {
   "cell_type": "markdown",
   "id": "83041f44",
   "metadata": {},
   "source": [
    "There are four initial types of neural nets to learn about. First is Feedforward Neural Network (FNN). In this notebook, I will not use packages such as tensorflow and Keras. These require specific environment setups, and its much more diffucult to see the underlying algorithm. Be sure to comment these algorithms line by line if anything is confusing. "
   ]
  },
  {
   "cell_type": "markdown",
   "id": "ac9763da",
   "metadata": {},
   "source": [
    "GPT: \"Write a FNN from scratch and apply it to the Iris dataset with thorough comments.\" I also added some more information to each step."
   ]
  },
  {
   "cell_type": "markdown",
   "id": "3ee35f85",
   "metadata": {},
   "source": [
    "<b> Convultional Neural Netowork (CNN) </b>"
   ]
  },
  {
   "cell_type": "code",
   "execution_count": null,
   "id": "8d83a084",
   "metadata": {},
   "outputs": [],
   "source": [
    "#I am unable to get an CNN to work from scratch...."
   ]
  },
  {
   "cell_type": "markdown",
   "id": "5986ade4",
   "metadata": {},
   "source": [
    "CNN, RNN, LSTM, Factorization and Colaborative"
   ]
  }
 ],
 "metadata": {
  "kernelspec": {
   "display_name": "Python 3",
   "language": "python",
   "name": "python3"
  },
  "language_info": {
   "codemirror_mode": {
    "name": "ipython",
    "version": 3
   },
   "file_extension": ".py",
   "mimetype": "text/x-python",
   "name": "python",
   "nbconvert_exporter": "python",
   "pygments_lexer": "ipython3",
   "version": "3.8.11"
  }
 },
 "nbformat": 4,
 "nbformat_minor": 5
}
