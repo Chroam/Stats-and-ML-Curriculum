{
 "cells": [
  {
   "cell_type": "markdown",
   "id": "9aee3108",
   "metadata": {},
   "source": [
    "Purpose: This Notebook aims to describe what frequentist statistics are and the assumptions made in using them. You may also consider Google Colab as some notebooks may be written in R, and I have found R is difficult to get working properly in Jupyter. \n",
    "\n",
    "These documents should be viewed as crash courses to statistics (mostly in Python). They were made with the intention for the written sections to summarize the concept, videos and readings to provide supplementary material, and hopes that you will get the broad concepts. It is encouraged to watch videos on x2 speed and focus on part of the document not labeled as \"Advanced\" or \"Bonus.\""
   ]
  },
  {
   "cell_type": "markdown",
   "id": "c3870d0c",
   "metadata": {},
   "source": [
    "<b> Introduction </b>"
   ]
  },
  {
   "cell_type": "markdown",
   "id": "ccc6ed30",
   "metadata": {},
   "source": [
    "Frequentist statistics try to describe a population using probabilities and sample data. A sample is a small group of experimental units (people, numbers, etc) taken from a population. A population is the greater group we want to make inferences about. Population data often cannot be gathered due to time and money, and therefore we draw conclusions from a sample."
   ]
  },
  {
   "cell_type": "markdown",
   "id": "e4c520bb",
   "metadata": {},
   "source": [
    "Video: https://www.youtube.com/watch?v=vikkiwjQqfU&list=PLblh5JKOoLUK0FLuzwntyYI10UQFUhsY9&index=6"
   ]
  },
  {
   "cell_type": "markdown",
   "id": "4fbc707f",
   "metadata": {},
   "source": [
    "It is assumed that by taking a sample of Observed Scores, we can get close to the True Score we are trying to infer. However, we will not be exact because of error (Charles Spearman's True Score Model: T=O+E). More on error later. This is done by taking a measure of central tendency. It is also assumed that the data sample and inferred population are normally distributed. This sounds very technical, but all it means is, the average is the most common occurrence, and it is normal for data to be somewhere near the mean. For example, most water drinkers have 5 cups, but some people have less and some people have more."
   ]
  },
  {
   "cell_type": "markdown",
   "id": "5cd9dbc5",
   "metadata": {},
   "source": [
    "This guide to statistics has a few data sets attached. Use these or import your own data sets from Kaggle, Yahoo Finance Historical, CDC, WHO, Earth Data by NASA, Data.Gov, or Google Dataset Search. For this notebook, I use the data from the Titanic Dataset of Kaggle. The data is arbitrary, and you should focus on the tools operating on the data. It is encouraged to insert your own data, and familiarize yourself accordingly. "
   ]
  },
  {
   "cell_type": "markdown",
   "id": "426d7a3c",
   "metadata": {},
   "source": [
    "Statistical tests should be used with “discretion and understanding, and not as instruments which themselves give the final verdict.” – Neyman and Pearson, 1928, p. 232"
   ]
  },
  {
   "cell_type": "code",
   "execution_count": 8,
   "id": "1b494e9e",
   "metadata": {},
   "outputs": [
    {
     "name": "stdout",
     "output_type": "stream",
     "text": [
      "     PassengerId  Pclass                                               Name  \\\n",
      "0           1158       1              Chisholm, Mr. Roderick Robert Crispin   \n",
      "1           1264       1                            Ismay, Mr. Joseph Bruce   \n",
      "2            913       3                          Olsen, Master. Artur Karl   \n",
      "3           1008       3                                   Thomas, Mr. John   \n",
      "4           1025       3                              Thomas, Mr. Charles P   \n",
      "..           ...     ...                                                ...   \n",
      "413         1034       1                         Ryerson, Mr. Arthur Larned   \n",
      "414          945       1                         Fortune, Miss. Ethel Flora   \n",
      "415          961       1                Fortune, Mrs. Mark (Mary McDougald)   \n",
      "416         1235       1  Cardeza, Mrs. James Warburton Martinez (Charlo...   \n",
      "417         1044       3                                 Storey, Mr. Thomas   \n",
      "\n",
      "        Sex   Age  SibSp  Parch    Ticket      Fare            Cabin Embarked  \n",
      "0      male   NaN      0      0    112051    0.0000              NaN        S  \n",
      "1      male  49.0      0      0    112058    0.0000      B52 B54 B56        S  \n",
      "2      male   9.0      0      1   C 17368    3.1708              NaN        S  \n",
      "3      male   NaN      0      0      2681    6.4375              NaN        C  \n",
      "4      male   NaN      1      0      2621    6.4375              NaN        C  \n",
      "..      ...   ...    ...    ...       ...       ...              ...      ...  \n",
      "413    male  61.0      1      3  PC 17608  262.3750  B57 B59 B63 B66        C  \n",
      "414  female  28.0      3      2     19950  263.0000      C23 C25 C27        S  \n",
      "415  female  60.0      1      4     19950  263.0000      C23 C25 C27        S  \n",
      "416  female  58.0      0      1  PC 17755  512.3292      B51 B53 B55        C  \n",
      "417    male  60.5      0      0      3701   35.6000              NaN        S  \n",
      "\n",
      "[418 rows x 11 columns]\n"
     ]
    }
   ],
   "source": [
    "import pandas as pd #Here I am importing Pandas, a library for manipulating data and doing analysis.\n",
    "\n",
    "df = pd.read_csv(\"data/titanic_testdata.csv\") #Here I import the data from a local file /data/*file.csv\n",
    "dfFull = pd.read_csv(\"data/titanic_testdata.csv\") #Here I create a backup of the full dataframe.\n",
    "print(df) #here I print the data, you can see some stuff but I am mostly confirming the data imported."
   ]
  },
  {
   "cell_type": "markdown",
   "id": "bdc18807",
   "metadata": {},
   "source": [
    "For convenience, I am going to subset the data for 1/1/1995-11/4/2020. This will give us a nice sample spanning several presidencies, COVID, the 2008 recession, and more."
   ]
  },
  {
   "cell_type": "code",
   "execution_count": 10,
   "id": "b20a1a1a",
   "metadata": {},
   "outputs": [
    {
     "name": "stdout",
     "output_type": "stream",
     "text": [
      "2        3.1708\n",
      "3        6.4375\n",
      "4        6.4375\n",
      "5        6.4958\n",
      "6        6.9500\n",
      "         ...   \n",
      "413    262.3750\n",
      "414    263.0000\n",
      "415    263.0000\n",
      "416    512.3292\n",
      "417     35.6000\n",
      "Name: Fare, Length: 416, dtype: float64\n"
     ]
    }
   ],
   "source": [
    "df = df.loc[df['Fare'] != 0] #Here I subset to contain only rows that contain data\n",
    "df = df[\"Fare\"] #Here I strip the data that is not part of the \"Fare\" set\n",
    "series = df #Here I am making a clone for series data type. \n",
    "print(df)"
   ]
  },
  {
   "cell_type": "code",
   "execution_count": 53,
   "id": "ff722be9",
   "metadata": {},
   "outputs": [],
   "source": [
    "df = df.to_frame() #Run this to convert the df_close to a data frame so we can use the following functions."
   ]
  },
  {
   "cell_type": "markdown",
   "id": "c1072ddf",
   "metadata": {},
   "source": [
    "<b> Central Tendency </b>"
   ]
  },
  {
   "cell_type": "markdown",
   "id": "5dd0f5c2",
   "metadata": {},
   "source": [
    "Now we will check out some central tendency. The general idea is that if you collect enough samples and center them, the observed center will be closer to the true center as samples increase. This concept is called \"regressing to the mean\" and is the staple of the Central Limit theorem. "
   ]
  },
  {
   "cell_type": "markdown",
   "id": "b9928ce8",
   "metadata": {},
   "source": [
    "Video: https://www.youtube.com/watch?v=SzZ6GpcfoQY&list=PLblh5JKOoLUK0FLuzwntyYI10UQFUhsY9&index=7"
   ]
  },
  {
   "cell_type": "code",
   "execution_count": 54,
   "id": "f560b64b",
   "metadata": {},
   "outputs": [
    {
     "name": "stdout",
     "output_type": "stream",
     "text": [
      "Fare    35.798408\n",
      "dtype: float64\n"
     ]
    }
   ],
   "source": [
    "print(df.mean(numeric_only=True)) "
   ]
  },
  {
   "cell_type": "markdown",
   "id": "2e4ca808",
   "metadata": {},
   "source": [
    "35.8 is the average of this data. This would be interesting if the data is in fact normally distributed. However, there is something here to consider in the context of the data being represented. Consider if this was stock data based on time-series. A normal distribution typically represents data collected at one point in time. I will move on for now, but the key point here is this mean represents a context of the sample, and does not represent True Values. In stocks, this is mostly confounded by inflation. The main take-away of these code chunks is we can calculate a mean.\n",
    "\n",
    "In this example, we have the population of Fare data, so our observed mean is the true mean (greek mew). In reality, we do not have the population data, so we estimate using an estimated mean. This is commonly known as x-bar. \n",
    "\n",
    "Advanced: Later, we can use stock data and control for inflation by multiplying every year by its inflation factor to modern day, or we could treat it as a covariate in an ANCOVA."
   ]
  },
  {
   "cell_type": "markdown",
   "id": "574f805c",
   "metadata": {},
   "source": [
    "\"Science does not promise absolute truth, nor does it consider that such a thing necessarily exists.\" -Isaac Asimov"
   ]
  },
  {
   "cell_type": "code",
   "execution_count": 55,
   "id": "09c68584",
   "metadata": {},
   "outputs": [
    {
     "name": "stdout",
     "output_type": "stream",
     "text": [
      "Fare    14.45625\n",
      "dtype: float64\n"
     ]
    }
   ],
   "source": [
    "print(df.median(numeric_only=True)) \n",
    "#Median is a good measure of central tendency when there are major outliers skewing the data. \n",
    "#This is the middle numbers"
   ]
  },
  {
   "cell_type": "code",
   "execution_count": 56,
   "id": "d703bfdd",
   "metadata": {},
   "outputs": [
    {
     "name": "stdout",
     "output_type": "stream",
     "text": [
      "   Fare\n",
      "0  7.75\n"
     ]
    }
   ],
   "source": [
    "print(df.mode(numeric_only=True))\n",
    "#Mode is generally more appropriate for non-quantitative data, like group numbers or catagories.\n",
    "#It shows the most commonly occurring value.\n",
    "#The mode has issues where it does not consider all data points, and it is sensitive to significant digits."
   ]
  },
  {
   "cell_type": "markdown",
   "id": "dfb193f9",
   "metadata": {},
   "source": [
    "<b> Normality (Advanced) </b>"
   ]
  },
  {
   "cell_type": "markdown",
   "id": "0dddeda8",
   "metadata": {},
   "source": [
    "Now I want to address data that meets an assumption of \"normality.\" Many statistical analyses assume the data is normally distributed around the mean. This can be visualized in a normal distribution (you may also see guassian distribution, standard distribution, normal curve, standard curve, or bell-shaped curve). There are many types of distributions, for example, the data shown in this notebook by default is probably an Exponential Distribution. I expect the importance of distributions is important in the context of the discipline, but since I work in human behavior research, I always use the standard distribution. \n",
    "\n",
    "However, I mentioned before, according to the Central Limit theorem, most things are normally distributed around the population mean. "
   ]
  },
  {
   "cell_type": "markdown",
   "id": "5a6749e2",
   "metadata": {},
   "source": [
    "I am giving up trying to get df.hist() to work. This would have been a visual test of a normal distribution. Another qualitative method is using a Q-Q plot. In a Q-Q plot, you check if the plots are aligned along a straight diagnol line. In leiu, I am going to do two quantitative tests of normality.\n",
    "\n",
    "Here is the code for RStudio, I managed to get that to work in 12 seconds. Ideally, the distribution would be normal, that is, the largest bar would be the mean, and data would progressively fall to either side. In this histogram, we see a large skew to one side. The further the data falls way, the wider the distribution, and thus the greater the SD. "
   ]
  },
  {
   "cell_type": "code",
   "execution_count": 63,
   "id": "5365c257",
   "metadata": {},
   "outputs": [],
   "source": [
    "#hist(Titanic_TestData$Fare)\n",
    "#Qqnorm(Titanic_TestData$Fare, pch = 1, frame = FALSE)"
   ]
  },
  {
   "attachments": {
    "HIstR.PNG": {
     "image/png": "[encoded data removed]"
    }
   },
   "cell_type": "markdown",
   "id": "c68ba76e",
   "metadata": {},
   "source": [
    "![HIstR.PNG](attachment:HIstR.PNG)"
   ]
  },
  {
   "attachments": {
    "QQR.PNG": {
     "image/png": "[encoded data removed]"
    }
   },
   "cell_type": "markdown",
   "id": "42a97933",
   "metadata": {},
   "source": [
    "![QQR.PNG](attachment:QQR.PNG)"
   ]
  },
  {
   "cell_type": "markdown",
   "id": "f0d4233e",
   "metadata": {},
   "source": [
    "Video (Optional Preliminary): https://www.youtube.com/watch?v=oI3hZJqXJuc&list=PLblh5JKOoLUK0FLuzwntyYI10UQFUhsY9&index=2\n",
    "\n",
    "Video (Also optional): https://www.youtube.com/watch?v=qBigTkBLU6g&list=PLblh5JKOoLUK0FLuzwntyYI10UQFUhsY9\n",
    "\n",
    "Video: https://www.youtube.com/watch?v=rzFX5NWojp0&list=PLblh5JKOoLUK0FLuzwntyYI10UQFUhsY9&index=3\n",
    "\n",
    "Video: https://www.youtube.com/watch?v=XLCWeSVzHUU\n",
    "\n",
    "Video: https://www.youtube.com/watch?v=YAlJCEDH2uY"
   ]
  },
  {
   "cell_type": "code",
   "execution_count": 76,
   "id": "cd823009",
   "metadata": {},
   "outputs": [
    {
     "data": {
      "text/plain": [
       "ShapiroResult(statistic=0.5384810566902161, pvalue=1.4126596225060555e-31)"
      ]
     },
     "execution_count": 76,
     "metadata": {},
     "output_type": "execute_result"
    }
   ],
   "source": [
    "import numpy as np\n",
    "import scipy\n",
    "from scipy.stats import shapiro\n",
    "#First I will do a Shapiro-Wilkes test of normality.\n",
    "shapiro(df.Fare)\n",
    "#Here we find that the p-value is below our threshold, .05 (alpha), which means this is not normal data. \n",
    "#However, a p-value is a probability value that our null hypothesis is true.\n",
    "#If it is less than .05, then we are saying we are okay that an alternative hypothesis might be true\n",
    "#given that it may be a false claim 5% of the time. \n",
    "#Here, we have a p-value less than 1, a pvalue greater than .05\n",
    "#would suggest the data is normally distributed. This is our null hypothesis. "
   ]
  },
  {
   "cell_type": "code",
   "execution_count": 1,
   "id": "79bc2741",
   "metadata": {},
   "outputs": [
    {
     "ename": "NameError",
     "evalue": "name 'df' is not defined",
     "output_type": "error",
     "traceback": [
      "\u001b[1;31m---------------------------------------------------------------------------\u001b[0m",
      "\u001b[1;31mNameError\u001b[0m                                 Traceback (most recent call last)",
      "\u001b[1;32m<ipython-input-1-62bb823e57fe>\u001b[0m in \u001b[0;36m<module>\u001b[1;34m\u001b[0m\n\u001b[0;32m      1\u001b[0m \u001b[1;32mfrom\u001b[0m \u001b[0mscipy\u001b[0m\u001b[1;33m.\u001b[0m\u001b[0mstats\u001b[0m \u001b[1;32mimport\u001b[0m \u001b[0mkstest\u001b[0m \u001b[1;31m#Kolmogorov-Smirnov Test\u001b[0m\u001b[1;33m\u001b[0m\u001b[1;33m\u001b[0m\u001b[0m\n\u001b[1;32m----> 2\u001b[1;33m \u001b[0mkstest\u001b[0m\u001b[1;33m(\u001b[0m\u001b[0mdf\u001b[0m\u001b[1;33m.\u001b[0m\u001b[0mFare\u001b[0m\u001b[1;33m,\u001b[0m \u001b[1;34m'norm'\u001b[0m\u001b[1;33m)\u001b[0m\u001b[1;33m\u001b[0m\u001b[1;33m\u001b[0m\u001b[0m\n\u001b[0m\u001b[0;32m      3\u001b[0m \u001b[1;31m#If the p-value of the test is greater than α = .05, then the data is assumed to be normally distributed.\u001b[0m\u001b[1;33m\u001b[0m\u001b[1;33m\u001b[0m\u001b[1;33m\u001b[0m\u001b[0m\n",
      "\u001b[1;31mNameError\u001b[0m: name 'df' is not defined"
     ]
    }
   ],
   "source": [
    "#Shapiro-Wilkes is used when you do not know the mean or variance. \n",
    "#Kolmogorov-Smirnov is used when you do know the mean and variance. \n",
    "#Furthermore, (Mishra et al., 2019) it is suggested Kolmogorov-Smirnov is used for n>50, \n",
    "#wheras Shapiro-Wilks is used for n<50. \n",
    "\n",
    "from scipy.stats import kstest #Kolmogorov-Smirnov Test\n",
    "kstest(df.Fare, 'norm')\n",
    "#If the p-value of the test is greater than α = .05, then the data is assumed to be normally distributed."
   ]
  },
  {
   "cell_type": "markdown",
   "id": "3970af80",
   "metadata": {},
   "source": [
    "At this point we have done 4 tests for normality. 3 (2 qual and 1 quant) suggested there was not a normal distribution. The Shapiro-Wilkes and Kolmogorov-Smirnov Test suggested it was not normally distributed. We can tell from the Qualitative tests it is definitely not normal.\n",
    "\n",
    "In summary, the quantitative tests are great (when they work), but usually are only used to be absolutely sure a qualitative test is normal. So the conventional practice is to use a qualitative test, and if it passes, use a quantitative test."
   ]
  },
  {
   "cell_type": "markdown",
   "id": "a35f12a8",
   "metadata": {},
   "source": [
    "<b> Error and Variation </b>"
   ]
  },
  {
   "cell_type": "markdown",
   "id": "f1112838",
   "metadata": {},
   "source": [
    "Now we need to address this thing mentioned earlier called \"error.\" Error can be caused by bias, confounds, undescribed terms, misunderstandings, and so much more. So we should break down Spearman's model. If we have no error, than True Score is always equal to Observed Score. This obviously is not the case. Consider a student taking a test. In theory, they have worked x amount of hours, achieved y grade on their assignments, and listen z minutes. These variables are arbitrary, but if they are very high, than let's suppose the student should get a 97 on the test. The student takes the test and they get a 100. This is their observed score. The question is now, how could the student have gotten a higher grade than they deserved? Well, maybe the test does not measure the student's ability accurately, maybe the student had a lucky guess, maybe they cheated, maybe the professor left some hint up in the environmnet such as on the board, etc. For now, lets assume the error is in the test design. We need to lessen the error of the test to better measure the students ability.\n",
    "\n",
    "The main point here is that we need to account for that error to get a more accurate or \"true\" measure. We need to make sure our measure is valid and reliable. \n",
    "\n",
    "Video: https://www.youtube.com/watch?v=vikkiwjQqfU&list=PLblh5JKOoLUK0FLuzwntyYI10UQFUhsY9&index=6"
   ]
  },
  {
   "cell_type": "markdown",
   "id": "6ace14f4",
   "metadata": {},
   "source": [
    "\"If we are uncritical we shall always find what we want: we shall look for, and find, confirmations, and we shall look away from, and now see,whatever might be dangerous to our... theories...\" -Karl Popper"
   ]
  },
  {
   "cell_type": "code",
   "execution_count": 59,
   "id": "b1fa7996",
   "metadata": {},
   "outputs": [
    {
     "name": "stdout",
     "output_type": "stream",
     "text": [
      "512.3292\n"
     ]
    }
   ],
   "source": [
    "print(series.max(axis=0)) #Here I get the max"
   ]
  },
  {
   "cell_type": "code",
   "execution_count": 60,
   "id": "5b1f8bc0",
   "metadata": {},
   "outputs": [
    {
     "name": "stdout",
     "output_type": "stream",
     "text": [
      "3.1708\n"
     ]
    }
   ],
   "source": [
    "print(series.min(axis=0)) #Here I get the minimum"
   ]
  },
  {
   "cell_type": "code",
   "execution_count": 61,
   "id": "add03280",
   "metadata": {},
   "outputs": [
    {
     "name": "stdout",
     "output_type": "stream",
     "text": [
      "509.15840000000003\n"
     ]
    }
   ],
   "source": [
    "print(series.max(axis=0) - series.min(axis=0)) \n",
    "#This is computing the range. the range is the most basic measure of variability.\n",
    "#It tells you very little about the data besides there are 3576.44 units of variability between the max and min."
   ]
  },
  {
   "cell_type": "markdown",
   "id": "5bb2c8d2",
   "metadata": {},
   "source": []
  },
  {
   "cell_type": "markdown",
   "id": "d0593528",
   "metadata": {},
   "source": [
    "So now we need something a little more powerful to determine how much our data varies. Here we will get into Variance, not to be confused with Variation. Variation refers to how much the data varies, and Variance is an analysis to describe variation."
   ]
  },
  {
   "cell_type": "markdown",
   "id": "8d5bfe30",
   "metadata": {},
   "source": [
    "STD Videos\n",
    "\n",
    "Video: https://www.youtube.com/watch?v=MRqtXL2WX2M\n",
    "\n",
    "Video: https://www.youtube.com/watch?v=sHRBg6BhKjI&list=PLblh5JKOoLUK0FLuzwntyYI10UQFUhsY9&index=43"
   ]
  },
  {
   "cell_type": "code",
   "execution_count": 62,
   "id": "f62aa366",
   "metadata": {},
   "outputs": [
    {
     "data": {
      "text/plain": [
       "3127.042301384134"
      ]
     },
     "execution_count": 62,
     "metadata": {},
     "output_type": "execute_result"
    }
   ],
   "source": [
    "series.var(axis=0)\n",
    "#df.var(axis=0) #both data types can use var.\n",
    "#Variance is a measure of dispersion. It is arbitrary and this can make it hard to interpret.\n",
    "#In order to interpret it, we use Standard Deviations, in otherwords, we standardize it to the units of the measure. \n",
    "\n",
    "#Notice in the variance formula, we square each term to make sure the terms are positive.\n",
    "#However, now the variance units are squared. The standard deviation formula fixes this. "
   ]
  },
  {
   "cell_type": "code",
   "execution_count": 64,
   "id": "19f55cec",
   "metadata": {
    "scrolled": true
   },
   "outputs": [
    {
     "data": {
      "text/plain": [
       "55.919963352850424"
      ]
     },
     "execution_count": 64,
     "metadata": {},
     "output_type": "execute_result"
    }
   ],
   "source": [
    "series.std(axis=0)\n",
    "#55.9 means that on average, data points are 55.9 units from the mean. This is 1 standard deviation. \n",
    "#If you have a mean of 5$, and an sd of 3$ for all the types of toothbrushes, \n",
    "#then the data varies little if you think 3$ is not much.\n",
    "#Because STD is mean based, it is susceptible to outliers and the assumptions of means. "
   ]
  },
  {
   "cell_type": "markdown",
   "id": "9a5e1546",
   "metadata": {},
   "source": [
    "<b> z-scoring </b>"
   ]
  },
  {
   "cell_type": "markdown",
   "id": "8f853963",
   "metadata": {},
   "source": [
    "Standard Deviations are very important to statistics. Next, I will describe Z-Scoring. \n",
    "\n",
    "Z-Scores tell you how many SD's from the mean a data point lies. We can see how usual or unusual a data point is. Additionally, you can standardize different scales, that is, in the crash course video they compare ACT and SAT scores. You create two normal distributions and calculate a z score for a student. When comparing two students you can compare z scores as common ground between the normal distributions. You could even plot these on a z distribution, or a standard normal distribution. \n",
    "\n",
    "Video: https://www.youtube.com/watch?v=uAxyI_XfqXk\n",
    "\n",
    "Video: https://www.youtube.com/watch?v=5S-Zfa-vOXs"
   ]
  },
  {
   "cell_type": "code",
   "execution_count": 72,
   "id": "974bf2a2",
   "metadata": {},
   "outputs": [
    {
     "data": {
      "text/html": [
       "<div>\n",
       "<style scoped>\n",
       "    .dataframe tbody tr th:only-of-type {\n",
       "        vertical-align: middle;\n",
       "    }\n",
       "\n",
       "    .dataframe tbody tr th {\n",
       "        vertical-align: top;\n",
       "    }\n",
       "\n",
       "    .dataframe thead th {\n",
       "        text-align: right;\n",
       "    }\n",
       "</style>\n",
       "<table border=\"1\" class=\"dataframe\">\n",
       "  <thead>\n",
       "    <tr style=\"text-align: right;\">\n",
       "      <th></th>\n",
       "      <th>Fare</th>\n",
       "    </tr>\n",
       "  </thead>\n",
       "  <tbody>\n",
       "    <tr>\n",
       "      <th>2</th>\n",
       "      <td>-0.583470</td>\n",
       "    </tr>\n",
       "    <tr>\n",
       "      <th>3</th>\n",
       "      <td>-0.525052</td>\n",
       "    </tr>\n",
       "    <tr>\n",
       "      <th>4</th>\n",
       "      <td>-0.525052</td>\n",
       "    </tr>\n",
       "    <tr>\n",
       "      <th>5</th>\n",
       "      <td>-0.524010</td>\n",
       "    </tr>\n",
       "    <tr>\n",
       "      <th>6</th>\n",
       "      <td>-0.515887</td>\n",
       "    </tr>\n",
       "    <tr>\n",
       "      <th>...</th>\n",
       "      <td>...</td>\n",
       "    </tr>\n",
       "    <tr>\n",
       "      <th>413</th>\n",
       "      <td>4.051802</td>\n",
       "    </tr>\n",
       "    <tr>\n",
       "      <th>414</th>\n",
       "      <td>4.062978</td>\n",
       "    </tr>\n",
       "    <tr>\n",
       "      <th>415</th>\n",
       "      <td>4.062978</td>\n",
       "    </tr>\n",
       "    <tr>\n",
       "      <th>416</th>\n",
       "      <td>8.521658</td>\n",
       "    </tr>\n",
       "    <tr>\n",
       "      <th>417</th>\n",
       "      <td>-0.003548</td>\n",
       "    </tr>\n",
       "  </tbody>\n",
       "</table>\n",
       "<p>416 rows × 1 columns</p>\n",
       "</div>"
      ],
      "text/plain": [
       "         Fare\n",
       "2   -0.583470\n",
       "3   -0.525052\n",
       "4   -0.525052\n",
       "5   -0.524010\n",
       "6   -0.515887\n",
       "..        ...\n",
       "413  4.051802\n",
       "414  4.062978\n",
       "415  4.062978\n",
       "416  8.521658\n",
       "417 -0.003548\n",
       "\n",
       "[416 rows x 1 columns]"
      ]
     },
     "execution_count": 72,
     "metadata": {},
     "output_type": "execute_result"
    }
   ],
   "source": [
    "df_zscore = (df - df.mean())/df.std()\n",
    "df_zscore\n",
    "\n",
    "#While we coud use a z-score function from SciPy for example, it was easier to just input the formula. \n",
    "#Now we have zscores for every value. "
   ]
  },
  {
   "cell_type": "code",
   "execution_count": 75,
   "id": "9c6e58c5",
   "metadata": {},
   "outputs": [
    {
     "data": {
      "text/plain": [
       "Fare   -0.52401\n",
       "Name: 5, dtype: float64"
      ]
     },
     "execution_count": 75,
     "metadata": {},
     "output_type": "execute_result"
    }
   ],
   "source": [
    "df_zscore.loc[5] #we could also use iloc for the implicit location.\n",
    "#Here we return just item 5."
   ]
  },
  {
   "cell_type": "markdown",
   "id": "b363f9ec",
   "metadata": {},
   "source": [
    "Up until this point, we have observed the way data compares to itself, in terms of a distribution, or where a datum relates to the distribution, in terms of the z-score. Now we will compare two variables using covariation."
   ]
  },
  {
   "cell_type": "markdown",
   "id": "c6b0e7c0",
   "metadata": {},
   "source": [
    "<b> Covariation, Pearson's Correlation (r), and RSquared </b>"
   ]
  },
  {
   "cell_type": "markdown",
   "id": "54f1b7d4",
   "metadata": {},
   "source": [
    "Does a relationship between variables, such as rat weight and speed, tell us something that only one variable could not tell us? Covariance can determine if there is a positive, negative, or lack of a trend between the data. If we did not determine the relative slope of the trend lines, we would get a float horizontal line, otherwise known as the mean line. Covariation tells us if two variables vary positively, negatively, or if there is no rend.\n",
    "\n",
    "Video: https://www.youtube.com/watch?v=qtaqvPAeEJY&list=PLblh5JKOoLUK0FLuzwntyYI10UQFUhsY9&index=18"
   ]
  },
  {
   "cell_type": "code",
   "execution_count": 91,
   "id": "b6b80885",
   "metadata": {},
   "outputs": [
    {
     "data": {
      "text/html": [
       "<div>\n",
       "<style scoped>\n",
       "    .dataframe tbody tr th:only-of-type {\n",
       "        vertical-align: middle;\n",
       "    }\n",
       "\n",
       "    .dataframe tbody tr th {\n",
       "        vertical-align: top;\n",
       "    }\n",
       "\n",
       "    .dataframe thead th {\n",
       "        text-align: right;\n",
       "    }\n",
       "</style>\n",
       "<table border=\"1\" class=\"dataframe\">\n",
       "  <thead>\n",
       "    <tr style=\"text-align: right;\">\n",
       "      <th></th>\n",
       "      <th>APPLClose</th>\n",
       "      <th>GOOGClose</th>\n",
       "    </tr>\n",
       "  </thead>\n",
       "  <tbody>\n",
       "    <tr>\n",
       "      <th>APPLClose</th>\n",
       "      <td>2398.672572</td>\n",
       "      <td>1606.857058</td>\n",
       "    </tr>\n",
       "    <tr>\n",
       "      <th>GOOGClose</th>\n",
       "      <td>1606.857058</td>\n",
       "      <td>1174.910375</td>\n",
       "    </tr>\n",
       "  </tbody>\n",
       "</table>\n",
       "</div>"
      ],
      "text/plain": [
       "             APPLClose    GOOGClose\n",
       "APPLClose  2398.672572  1606.857058\n",
       "GOOGClose  1606.857058  1174.910375"
      ]
     },
     "execution_count": 91,
     "metadata": {},
     "output_type": "execute_result"
    }
   ],
   "source": [
    "#Here I am going to switch data sets because Titanic does not have much for continuous data.\n",
    "#It also is not cleaned. I quickly built a data set using Excel and Yahoo Finance where I\n",
    "#appended Google Stock Data onto the Apple Stock Data. \n",
    "df2 = pd.read_csv(\"data/APPL_GOOG_HistoricalStockData.csv\") #Here I import the data from a local file /data/*file.csv\n",
    "df2 = df2[[\"APPLClose\", \"GOOGClose\"]]\n",
    "df2.cov()"
   ]
  },
  {
   "cell_type": "markdown",
   "id": "fdad3b61",
   "metadata": {},
   "source": [
    "As you can see, these numbers are positive. Which means there is a linear relationship. In other words,\n",
    "when one goes up, the other goes up. The issue is, how do we interpret this? This leads up to correlation."
   ]
  },
  {
   "cell_type": "markdown",
   "id": "1837e357",
   "metadata": {},
   "source": [
    "Pearson’s Correlation tells us how strongly two variables are correlated, or related to eachother? This is the extent correlation can be interpreted. It does not determine causality, but only the extent to which two variables are related, or not related. Another flaw is that it is susceptible to small samples (as all statistics are, we will discuss power later). It also only uses linear lines. For example, a small slope could have a correlation of 1, and a large slope could have a correlation of 1. \n",
    "\n",
    "Video: https://www.youtube.com/watch?v=xZ_z8KWkhXE&list=PLblh5JKOoLUK0FLuzwntyYI10UQFUhsY9&index=17\n",
    "\n",
    "There are many types of correlation. Here we focus on Pearson (parametric, has assumptions), but you should also familiarize yourself with Kendell Rank Correlation (non-parametric, small sample size), Spearman Correlation (non-parametric, large sample size), and Point-Biserial Correlation. Parametric tests have more statistical power (more on this later).\n",
    "\n",
    "Take a look at this website to see examples of correlations that are clearly not showing causation.\n",
    "https://www.tylervigen.com/spurious-correlations\n",
    "\n",
    "Correlation is very powerful and can do cool things. For example, it can quantify unscaled relationships. It can determine how predictable a trend line is (though this will be followed up with RSquared or R^2). The correlation value, otherwise known as \"r\" or the correlation coefficient, also has a p-value associated with it. You can use this to determine significance. However, we need to use SciPy to get this as pandas does not support it natively."
   ]
  },
  {
   "cell_type": "code",
   "execution_count": 96,
   "id": "117d0956",
   "metadata": {},
   "outputs": [
    {
     "data": {
      "text/plain": [
       "(0.957170688452597, 0.0)"
      ]
     },
     "execution_count": 96,
     "metadata": {},
     "output_type": "execute_result"
    }
   ],
   "source": [
    "from scipy.stats import pearsonr\n",
    "pearsonr(df2['APPLClose'], df2[\"GOOGClose\"])\n",
    "\n",
    "r_pvalues\n",
    "\n",
    "#Here we can see that APPL is correlated with GOOG at .957 with a p-value of <.1.\n",
    "#This is incredibly high but we can be relatively sure this is not caused by error.\n",
    "#Later we will learn what predicts these values using Regression, this will be in Part 3. "
   ]
  },
  {
   "cell_type": "code",
   "execution_count": 99,
   "id": "736eb50c",
   "metadata": {},
   "outputs": [
    {
     "data": {
      "text/html": [
       "<div>\n",
       "<style scoped>\n",
       "    .dataframe tbody tr th:only-of-type {\n",
       "        vertical-align: middle;\n",
       "    }\n",
       "\n",
       "    .dataframe tbody tr th {\n",
       "        vertical-align: top;\n",
       "    }\n",
       "\n",
       "    .dataframe thead th {\n",
       "        text-align: right;\n",
       "    }\n",
       "</style>\n",
       "<table border=\"1\" class=\"dataframe\">\n",
       "  <thead>\n",
       "    <tr style=\"text-align: right;\">\n",
       "      <th></th>\n",
       "      <th>APPLClose</th>\n",
       "      <th>GOOGClose</th>\n",
       "    </tr>\n",
       "  </thead>\n",
       "  <tbody>\n",
       "    <tr>\n",
       "      <th>APPLClose</th>\n",
       "      <td>0.0</td>\n",
       "      <td>0.0</td>\n",
       "    </tr>\n",
       "    <tr>\n",
       "      <th>GOOGClose</th>\n",
       "      <td>0.0</td>\n",
       "      <td>0.0</td>\n",
       "    </tr>\n",
       "  </tbody>\n",
       "</table>\n",
       "</div>"
      ],
      "text/plain": [
       "          APPLClose GOOGClose\n",
       "APPLClose       0.0       0.0\n",
       "GOOGClose       0.0       0.0"
      ]
     },
     "execution_count": 99,
     "metadata": {},
     "output_type": "execute_result"
    }
   ],
   "source": [
    "#Advanced: This will give all p-values in the df.\n",
    "def r_pvalues(df):\n",
    "    cols = pd.DataFrame(columns=df.columns)\n",
    "    p = cols.transpose().join(cols, how='outer')\n",
    "    for r in df.columns:\n",
    "        for c in df.columns:\n",
    "            tmp = df[df[r].notnull() & df[c].notnull()]\n",
    "            p[r][c] = round(pearsonr(tmp[r], tmp[c])[1], 4)\n",
    "    return p\n",
    "\n",
    "r_pvalues(df2)"
   ]
  },
  {
   "cell_type": "markdown",
   "id": "21c7194f",
   "metadata": {},
   "source": [
    "The last step is interpreting r. It is interesting enough that two variables are related at r=.xx. However, it is not clear what this correlation looks at scale. I typically think of r as growing exponentially. For example, a correlation of .71 is twice as good as a correlation of .50. This becomes obvious using R^2.\n",
    "\n",
    "RSquared quantifies the amount of variation in the data that is explained by the relationship of the two variables. In terms of Spearman's True Score Model, our variables are the observed score, and error is the part that is unaccounted for. Here we will take the correlation between APPLClose and GOOGClose and square it. We find that our variables explain 91.5% of the variation in the data. \n",
    "\n",
    "Video: https://www.youtube.com/watch?v=2AQKmw14mHM&list=PLblh5JKOoLUK0FLuzwntyYI10UQFUhsY9&index=20"
   ]
  },
  {
   "cell_type": "code",
   "execution_count": 102,
   "id": "50a10545",
   "metadata": {},
   "outputs": [
    {
     "data": {
      "text/plain": [
       "0.9158489999999999"
      ]
     },
     "execution_count": 102,
     "metadata": {},
     "output_type": "execute_result"
    }
   ],
   "source": [
    "APPLGOOGClose = .957 * .957\n",
    "APPLGOOGClose"
   ]
  },
  {
   "cell_type": "markdown",
   "id": "f557f855",
   "metadata": {},
   "source": [
    "<b> Conclusion </b>"
   ]
  },
  {
   "cell_type": "markdown",
   "id": "fe79eb12",
   "metadata": {},
   "source": [
    "Congratulations, this is what I consider an introduction to statistics. You also learned about some advanced concepts such as assumption testing where we tested normality. It is also worth noting this is not just a tutorial, but also a workflow. Consider the assumption test of normality, where we concluded normality was not met through 4 tests. The reason 4 tests were neccessary was because there was some incongruence. Furthermore, tools in a data scientists toolbelt do not have to be unimodal. It was more convenient to jump into R studio, and so I used that as a temporary fix. In part 2, I will mostly cover terminology and concepts in stats. In part 3, I will dive into General Linear Models."
   ]
  },
  {
   "cell_type": "markdown",
   "id": "3db5a44e",
   "metadata": {},
   "source": [
    "You may want to review probability, combinations, and permutations if you are not familiar. I will not review these explicitly but they are good foundational tools. The following link is a good source for all the types of test you may want access to. I will cover many in this series, but it is impossible for me to be comprehensive. \n",
    "\n",
    "Video: https://www.youtube.com/watch?v=_IgyaD7vOOA&list=PLblh5JKOoLUK0FLuzwntyYI10UQFUhsY9&index=18"
   ]
  },
  {
   "cell_type": "markdown",
   "id": "a2fc2910",
   "metadata": {},
   "source": [
    "Bonus Activity: You should go through the following formulas and describe the similarities between them: Average, Variance, Covariance, and Correlation"
   ]
  },
  {
   "cell_type": "markdown",
   "id": "8b50aeda",
   "metadata": {},
   "source": [
    "\"Statistics is the grammar of science.\" Karl Pearson"
   ]
  },
  {
   "cell_type": "markdown",
   "id": "8ffb8f23",
   "metadata": {},
   "source": [
    "<b> Disclaimer </b>"
   ]
  },
  {
   "cell_type": "markdown",
   "id": "5e6c371e",
   "metadata": {},
   "source": [
    "The author of these series of documents is Preston Menke. I am not a statistician but I do have some training in statistics and experimental design. I have observed much of the materials online are diffucult to follow, so I have provided the best materials I have found on these topics. It is worth noting that I present this curriculum with a heavy academic bias as a student of psychology (for those unfamiliar with psychology, we are very concerned with statistical methods because we often observe latent variables). If you find issues in these documents or have general questions, feel free to reach out to me. Finally, if you manage to find the original citations for any work I have not cited, please send them to me so I can insert them."
   ]
  },
  {
   "cell_type": "markdown",
   "id": "bb64cd5a",
   "metadata": {},
   "source": [
    "<b> Thing I do not cover in these documents. </b>\n",
    "\n",
    "Likelihood Distributions\n",
    "\n",
    "Bayes Theorem\n",
    "\n",
    "Kronecker Products\n",
    "\n",
    "Lagrange Multiplier Test\n"
   ]
  }
 ],
 "metadata": {
  "kernelspec": {
   "display_name": "Python 3",
   "language": "python",
   "name": "python3"
  },
  "language_info": {
   "codemirror_mode": {
    "name": "ipython",
    "version": 3
   },
   "file_extension": ".py",
   "mimetype": "text/x-python",
   "name": "python",
   "nbconvert_exporter": "python",
   "pygments_lexer": "ipython3",
   "version": "3.8.11"
  }
 },
 "nbformat": 4,
 "nbformat_minor": 5
}
